{
 "cells": [
  {
   "cell_type": "markdown",
   "id": "f99adf3f",
   "metadata": {},
   "source": [
    "# Using SUPPORT VECTOR MACHINE on Diabetes dataset\n",
    "## Diabetes Prediction"
   ]
  },
  {
   "cell_type": "markdown",
   "id": "0c51d285",
   "metadata": {},
   "source": [
    "Importing libraries"
   ]
  },
  {
   "cell_type": "code",
   "execution_count": 1,
   "id": "8afcdb21",
   "metadata": {},
   "outputs": [],
   "source": [
    "import numpy as np\n",
    "import pandas as pd\n",
    "from sklearn.preprocessing import StandardScaler\n",
    "from sklearn.model_selection import train_test_split\n",
    "from sklearn import svm"
   ]
  },
  {
   "cell_type": "markdown",
   "id": "e710c035",
   "metadata": {},
   "source": [
    "Data Collection and analysis"
   ]
  },
  {
   "cell_type": "code",
   "execution_count": 2,
   "id": "5c549491",
   "metadata": {},
   "outputs": [],
   "source": [
    "#loading diabetes dataset\n",
    "dataset=pd.read_csv(\"diabetes.csv\")"
   ]
  },
  {
   "cell_type": "code",
   "execution_count": 3,
   "id": "3c9ffcbf",
   "metadata": {},
   "outputs": [
    {
     "name": "stdout",
     "output_type": "stream",
     "text": [
      "   Pregnancies  Glucose  BloodPressure  SkinThickness  Insulin   BMI  \\\n",
      "0            6      148             72             35        0  33.6   \n",
      "1            1       85             66             29        0  26.6   \n",
      "2            8      183             64              0        0  23.3   \n",
      "3            1       89             66             23       94  28.1   \n",
      "4            0      137             40             35      168  43.1   \n",
      "\n",
      "   DiabetesPedigreeFunction  Age  Outcome  \n",
      "0                     0.627   50        1  \n",
      "1                     0.351   31        0  \n",
      "2                     0.672   32        1  \n",
      "3                     0.167   21        0  \n",
      "4                     2.288   33        1  \n"
     ]
    }
   ],
   "source": [
    "print(dataset.head())"
   ]
  },
  {
   "cell_type": "code",
   "execution_count": 4,
   "id": "bcb2f7d4",
   "metadata": {},
   "outputs": [
    {
     "name": "stdout",
     "output_type": "stream",
     "text": [
      "(768, 9)\n"
     ]
    }
   ],
   "source": [
    "print(dataset.shape)"
   ]
  },
  {
   "cell_type": "code",
   "execution_count": 5,
   "id": "c66df642",
   "metadata": {},
   "outputs": [
    {
     "name": "stdout",
     "output_type": "stream",
     "text": [
      "       Pregnancies     Glucose  BloodPressure  SkinThickness     Insulin  \\\n",
      "count   768.000000  768.000000     768.000000     768.000000  768.000000   \n",
      "mean      3.845052  120.894531      69.105469      20.536458   79.799479   \n",
      "std       3.369578   31.972618      19.355807      15.952218  115.244002   \n",
      "min       0.000000    0.000000       0.000000       0.000000    0.000000   \n",
      "25%       1.000000   99.000000      62.000000       0.000000    0.000000   \n",
      "50%       3.000000  117.000000      72.000000      23.000000   30.500000   \n",
      "75%       6.000000  140.250000      80.000000      32.000000  127.250000   \n",
      "max      17.000000  199.000000     122.000000      99.000000  846.000000   \n",
      "\n",
      "              BMI  DiabetesPedigreeFunction         Age     Outcome  \n",
      "count  768.000000                768.000000  768.000000  768.000000  \n",
      "mean    31.992578                  0.471876   33.240885    0.348958  \n",
      "std      7.884160                  0.331329   11.760232    0.476951  \n",
      "min      0.000000                  0.078000   21.000000    0.000000  \n",
      "25%     27.300000                  0.243750   24.000000    0.000000  \n",
      "50%     32.000000                  0.372500   29.000000    0.000000  \n",
      "75%     36.600000                  0.626250   41.000000    1.000000  \n",
      "max     67.100000                  2.420000   81.000000    1.000000  \n"
     ]
    }
   ],
   "source": [
    "print(dataset.describe())"
   ]
  },
  {
   "cell_type": "code",
   "execution_count": 6,
   "id": "0ce8f9a6",
   "metadata": {},
   "outputs": [
    {
     "name": "stdout",
     "output_type": "stream",
     "text": [
      "0    500\n",
      "1    268\n",
      "Name: Outcome, dtype: int64\n"
     ]
    }
   ],
   "source": [
    "print(dataset['Outcome'].value_counts())"
   ]
  },
  {
   "cell_type": "markdown",
   "id": "04f4602c",
   "metadata": {},
   "source": [
    "0->Non Diabetic\n",
    "1->Diabetic"
   ]
  },
  {
   "cell_type": "markdown",
   "id": "c7cfde5e",
   "metadata": {},
   "source": [
    "Splitting our datasets into training and testing data"
   ]
  },
  {
   "cell_type": "code",
   "execution_count": 7,
   "id": "415ea18d",
   "metadata": {},
   "outputs": [],
   "source": [
    "X=dataset.drop(dataset.iloc[:,8:9],axis=1)"
   ]
  },
  {
   "cell_type": "code",
   "execution_count": 8,
   "id": "dcf5fd17",
   "metadata": {},
   "outputs": [
    {
     "name": "stdout",
     "output_type": "stream",
     "text": [
      "     Pregnancies  Glucose  BloodPressure  SkinThickness  Insulin   BMI  \\\n",
      "0              6      148             72             35        0  33.6   \n",
      "1              1       85             66             29        0  26.6   \n",
      "2              8      183             64              0        0  23.3   \n",
      "3              1       89             66             23       94  28.1   \n",
      "4              0      137             40             35      168  43.1   \n",
      "..           ...      ...            ...            ...      ...   ...   \n",
      "763           10      101             76             48      180  32.9   \n",
      "764            2      122             70             27        0  36.8   \n",
      "765            5      121             72             23      112  26.2   \n",
      "766            1      126             60              0        0  30.1   \n",
      "767            1       93             70             31        0  30.4   \n",
      "\n",
      "     DiabetesPedigreeFunction  Age  \n",
      "0                       0.627   50  \n",
      "1                       0.351   31  \n",
      "2                       0.672   32  \n",
      "3                       0.167   21  \n",
      "4                       2.288   33  \n",
      "..                        ...  ...  \n",
      "763                     0.171   63  \n",
      "764                     0.340   27  \n",
      "765                     0.245   30  \n",
      "766                     0.349   47  \n",
      "767                     0.315   23  \n",
      "\n",
      "[768 rows x 8 columns]\n"
     ]
    }
   ],
   "source": [
    "print(X)"
   ]
  },
  {
   "cell_type": "code",
   "execution_count": 9,
   "id": "bd15c723",
   "metadata": {},
   "outputs": [],
   "source": [
    "Y=dataset.iloc[:,8:9]"
   ]
  },
  {
   "cell_type": "code",
   "execution_count": 10,
   "id": "645314bf",
   "metadata": {},
   "outputs": [
    {
     "name": "stdout",
     "output_type": "stream",
     "text": [
      "     Outcome\n",
      "0          1\n",
      "1          0\n",
      "2          1\n",
      "3          0\n",
      "4          1\n",
      "..       ...\n",
      "763        0\n",
      "764        0\n",
      "765        0\n",
      "766        1\n",
      "767        0\n",
      "\n",
      "[768 rows x 1 columns]\n"
     ]
    }
   ],
   "source": [
    "print(Y)"
   ]
  },
  {
   "cell_type": "markdown",
   "id": "0aec10ee",
   "metadata": {},
   "source": [
    "Data Standarisation"
   ]
  },
  {
   "cell_type": "code",
   "execution_count": 11,
   "id": "3dd8332a",
   "metadata": {},
   "outputs": [],
   "source": [
    "#scaler=StandardScaler()"
   ]
  },
  {
   "cell_type": "code",
   "execution_count": 12,
   "id": "fdd69e35",
   "metadata": {},
   "outputs": [],
   "source": [
    "#X_=scaler.fit_transform(X)"
   ]
  },
  {
   "cell_type": "code",
   "execution_count": 13,
   "id": "b46be3b3",
   "metadata": {},
   "outputs": [],
   "source": [
    "#print(X_)"
   ]
  },
  {
   "cell_type": "code",
   "execution_count": 14,
   "id": "6335d573",
   "metadata": {},
   "outputs": [
    {
     "name": "stdout",
     "output_type": "stream",
     "text": [
      "     Outcome\n",
      "0          1\n",
      "1          0\n",
      "2          1\n",
      "3          0\n",
      "4          1\n",
      "..       ...\n",
      "763        0\n",
      "764        0\n",
      "765        0\n",
      "766        1\n",
      "767        0\n",
      "\n",
      "[768 rows x 1 columns]\n"
     ]
    }
   ],
   "source": [
    "print(Y)"
   ]
  },
  {
   "cell_type": "markdown",
   "id": "e8e3338e",
   "metadata": {},
   "source": [
    "Splitting data"
   ]
  },
  {
   "cell_type": "code",
   "execution_count": 15,
   "id": "f44e1294",
   "metadata": {},
   "outputs": [],
   "source": [
    "X_train,X_test,Y_train,Y_test=train_test_split(X,Y,test_size=0.3,stratify=Y,random_state=2)"
   ]
  },
  {
   "cell_type": "markdown",
   "id": "7bd05d11",
   "metadata": {},
   "source": [
    "Training the Model using SVM"
   ]
  },
  {
   "cell_type": "code",
   "execution_count": 16,
   "id": "fbc54dea",
   "metadata": {},
   "outputs": [],
   "source": [
    "model_classifier=svm.SVC(kernel='linear')"
   ]
  },
  {
   "cell_type": "code",
   "execution_count": 17,
   "id": "7b421836",
   "metadata": {},
   "outputs": [
    {
     "data": {
      "text/plain": [
       "SVC(kernel='linear')"
      ]
     },
     "execution_count": 17,
     "metadata": {},
     "output_type": "execute_result"
    }
   ],
   "source": [
    "model_classifier.fit(X_train,Y_train.values.ravel())"
   ]
  },
  {
   "cell_type": "markdown",
   "id": "60dd6053",
   "metadata": {},
   "source": [
    "Model Evaluation and score"
   ]
  },
  {
   "cell_type": "code",
   "execution_count": 18,
   "id": "798ee3e5",
   "metadata": {},
   "outputs": [
    {
     "name": "stdout",
     "output_type": "stream",
     "text": [
      "Accuracy score of the model is  77.48917748917748 %\n"
     ]
    }
   ],
   "source": [
    "print(\"Accuracy score of the model is \",model_classifier.score(X_test,Y_test)*100,'%')\n",
    "rows,columns=X_test.shape"
   ]
  },
  {
   "cell_type": "markdown",
   "id": "eda2bfb4",
   "metadata": {},
   "source": [
    "## Predicting Diabetes or not"
   ]
  },
  {
   "cell_type": "code",
   "execution_count": 19,
   "id": "8876c097",
   "metadata": {},
   "outputs": [
    {
     "name": "stdout",
     "output_type": "stream",
     "text": [
      "     Pregnancies  Glucose  BloodPressure  SkinThickness  Insulin   BMI  \\\n",
      "46             1      146             56              0        0  29.7   \n",
      "438            1       97             70             15        0  18.2   \n",
      "756            7      137             90             41        0  32.0   \n",
      "306           10      161             68             23      132  25.5   \n",
      "224            1      100             66             15       56  23.6   \n",
      "..           ...      ...            ...            ...      ...   ...   \n",
      "186            8      181             68             36      495  30.1   \n",
      "109            0       95             85             25       36  37.4   \n",
      "75             1        0             48             20        0  24.7   \n",
      "679            2      101             58             17      265  24.2   \n",
      "132            3      170             64             37      225  34.5   \n",
      "\n",
      "     DiabetesPedigreeFunction  Age  \n",
      "46                      0.564   29  \n",
      "438                     0.147   21  \n",
      "756                     0.391   39  \n",
      "306                     0.326   47  \n",
      "224                     0.666   26  \n",
      "..                        ...  ...  \n",
      "186                     0.615   60  \n",
      "109                     0.247   24  \n",
      "75                      0.140   22  \n",
      "679                     0.614   23  \n",
      "132                     0.356   30  \n",
      "\n",
      "[231 rows x 8 columns]\n",
      "Prediction on test data\n",
      "The patient is diabetic\n",
      "The patient is diabetic\n",
      "The patient is not diabetic\n",
      "The patient is not diabetic\n",
      "The patient is diabetic\n",
      "The patient is diabetic\n",
      "The patient is diabetic\n",
      "The patient is not diabetic\n",
      "The patient is diabetic\n",
      "The patient is diabetic\n",
      "The patient is diabetic\n",
      "The patient is diabetic\n",
      "The patient is not diabetic\n",
      "The patient is diabetic\n",
      "The patient is diabetic\n",
      "The patient is diabetic\n",
      "The patient is diabetic\n",
      "The patient is diabetic\n",
      "The patient is diabetic\n",
      "The patient is diabetic\n",
      "The patient is diabetic\n",
      "The patient is not diabetic\n",
      "The patient is diabetic\n",
      "The patient is diabetic\n",
      "The patient is diabetic\n",
      "The patient is diabetic\n",
      "The patient is diabetic\n",
      "The patient is diabetic\n",
      "The patient is not diabetic\n",
      "The patient is not diabetic\n",
      "The patient is not diabetic\n",
      "The patient is not diabetic\n",
      "The patient is diabetic\n",
      "The patient is diabetic\n",
      "The patient is diabetic\n",
      "The patient is diabetic\n",
      "The patient is diabetic\n",
      "The patient is diabetic\n",
      "The patient is diabetic\n",
      "The patient is diabetic\n",
      "The patient is diabetic\n",
      "The patient is diabetic\n",
      "The patient is diabetic\n",
      "The patient is not diabetic\n",
      "The patient is not diabetic\n",
      "The patient is diabetic\n",
      "The patient is diabetic\n",
      "The patient is diabetic\n",
      "The patient is diabetic\n",
      "The patient is diabetic\n",
      "The patient is diabetic\n",
      "The patient is diabetic\n",
      "The patient is not diabetic\n",
      "The patient is diabetic\n",
      "The patient is not diabetic\n",
      "The patient is diabetic\n",
      "The patient is diabetic\n",
      "The patient is diabetic\n",
      "The patient is diabetic\n",
      "The patient is diabetic\n",
      "The patient is diabetic\n",
      "The patient is diabetic\n",
      "The patient is diabetic\n",
      "The patient is not diabetic\n",
      "The patient is diabetic\n",
      "The patient is diabetic\n",
      "The patient is not diabetic\n",
      "The patient is diabetic\n",
      "The patient is diabetic\n",
      "The patient is diabetic\n",
      "The patient is diabetic\n",
      "The patient is diabetic\n",
      "The patient is not diabetic\n",
      "The patient is diabetic\n",
      "The patient is diabetic\n",
      "The patient is diabetic\n",
      "The patient is not diabetic\n",
      "The patient is diabetic\n",
      "The patient is diabetic\n",
      "The patient is diabetic\n",
      "The patient is not diabetic\n",
      "The patient is diabetic\n",
      "The patient is diabetic\n",
      "The patient is not diabetic\n",
      "The patient is not diabetic\n",
      "The patient is diabetic\n",
      "The patient is not diabetic\n",
      "The patient is diabetic\n",
      "The patient is diabetic\n",
      "The patient is not diabetic\n",
      "The patient is diabetic\n",
      "The patient is diabetic\n",
      "The patient is diabetic\n",
      "The patient is diabetic\n",
      "The patient is diabetic\n",
      "The patient is diabetic\n",
      "The patient is diabetic\n",
      "The patient is not diabetic\n",
      "The patient is diabetic\n",
      "The patient is diabetic\n",
      "The patient is diabetic\n",
      "The patient is diabetic\n",
      "The patient is diabetic\n",
      "The patient is diabetic\n",
      "The patient is diabetic\n",
      "The patient is not diabetic\n",
      "The patient is diabetic\n",
      "The patient is diabetic\n",
      "The patient is diabetic\n",
      "The patient is not diabetic\n",
      "The patient is diabetic\n",
      "The patient is diabetic\n",
      "The patient is diabetic\n",
      "The patient is diabetic\n",
      "The patient is not diabetic\n",
      "The patient is diabetic\n",
      "The patient is diabetic\n",
      "The patient is not diabetic\n",
      "The patient is diabetic\n",
      "The patient is diabetic\n",
      "The patient is not diabetic\n",
      "The patient is diabetic\n",
      "The patient is not diabetic\n",
      "The patient is diabetic\n",
      "The patient is diabetic\n",
      "The patient is diabetic\n",
      "The patient is diabetic\n",
      "The patient is diabetic\n",
      "The patient is diabetic\n",
      "The patient is diabetic\n",
      "The patient is diabetic\n",
      "The patient is diabetic\n",
      "The patient is diabetic\n",
      "The patient is diabetic\n",
      "The patient is diabetic\n",
      "The patient is diabetic\n",
      "The patient is diabetic\n",
      "The patient is diabetic\n",
      "The patient is diabetic\n",
      "The patient is not diabetic\n",
      "The patient is diabetic\n",
      "The patient is diabetic\n",
      "The patient is not diabetic\n",
      "The patient is diabetic\n",
      "The patient is diabetic\n",
      "The patient is not diabetic\n",
      "The patient is diabetic\n",
      "The patient is diabetic\n",
      "The patient is not diabetic\n",
      "The patient is not diabetic\n",
      "The patient is not diabetic\n",
      "The patient is diabetic\n",
      "The patient is diabetic\n",
      "The patient is diabetic\n",
      "The patient is diabetic\n",
      "The patient is diabetic\n",
      "The patient is not diabetic\n",
      "The patient is diabetic\n",
      "The patient is diabetic\n",
      "The patient is diabetic\n",
      "The patient is diabetic\n",
      "The patient is not diabetic\n",
      "The patient is diabetic\n",
      "The patient is diabetic\n",
      "The patient is diabetic\n",
      "The patient is diabetic\n",
      "The patient is diabetic\n",
      "The patient is diabetic\n",
      "The patient is diabetic\n",
      "The patient is diabetic\n",
      "The patient is diabetic\n",
      "The patient is not diabetic\n",
      "The patient is diabetic\n",
      "The patient is diabetic\n",
      "The patient is not diabetic\n",
      "The patient is diabetic\n",
      "The patient is diabetic\n",
      "The patient is diabetic\n",
      "The patient is diabetic\n",
      "The patient is diabetic\n",
      "The patient is diabetic\n",
      "The patient is diabetic\n",
      "The patient is diabetic\n",
      "The patient is diabetic\n",
      "The patient is diabetic\n",
      "The patient is diabetic\n",
      "The patient is diabetic\n",
      "The patient is diabetic\n",
      "The patient is diabetic\n",
      "The patient is diabetic\n",
      "The patient is diabetic\n",
      "The patient is diabetic\n",
      "The patient is diabetic\n",
      "The patient is diabetic\n",
      "The patient is diabetic\n",
      "The patient is diabetic\n",
      "The patient is diabetic\n",
      "The patient is diabetic\n",
      "The patient is not diabetic\n",
      "The patient is diabetic\n",
      "The patient is diabetic\n",
      "The patient is not diabetic\n",
      "The patient is diabetic\n",
      "The patient is diabetic\n",
      "The patient is diabetic\n",
      "The patient is diabetic\n",
      "The patient is diabetic\n",
      "The patient is diabetic\n",
      "The patient is not diabetic\n",
      "The patient is not diabetic\n",
      "The patient is not diabetic\n",
      "The patient is not diabetic\n",
      "The patient is diabetic\n",
      "The patient is diabetic\n",
      "The patient is diabetic\n",
      "The patient is diabetic\n",
      "The patient is diabetic\n",
      "The patient is diabetic\n",
      "The patient is not diabetic\n",
      "The patient is diabetic\n",
      "The patient is not diabetic\n",
      "The patient is diabetic\n",
      "The patient is not diabetic\n",
      "The patient is diabetic\n",
      "The patient is diabetic\n",
      "The patient is not diabetic\n",
      "The patient is not diabetic\n",
      "The patient is diabetic\n",
      "The patient is diabetic\n",
      "The patient is diabetic\n",
      "The patient is not diabetic\n"
     ]
    }
   ],
   "source": [
    "print(X_test)\n",
    "prediction=model_classifier.predict(X_test)\n",
    "print(\"Prediction on test data\")\n",
    "for i in range(0,rows,1):\n",
    " if(prediction[i]==0):\n",
    "  print(\"The patient is diabetic\")\n",
    " else:\n",
    "  print(\"The patient is not diabetic\")"
   ]
  },
  {
   "cell_type": "markdown",
   "id": "8f76c0e8",
   "metadata": {},
   "source": [
    "Testing data on single instance"
   ]
  },
  {
   "cell_type": "code",
   "execution_count": 23,
   "id": "b5cdb19d",
   "metadata": {
    "scrolled": true
   },
   "outputs": [
    {
     "name": "stdout",
     "output_type": "stream",
     "text": [
      "Given data\n",
      "[7, 181, 84, 21, 192, 35.9, 0.586, 51]\n",
      "Outcome predicted: 1\n",
      "The patient is having diabetes\n"
     ]
    }
   ],
   "source": [
    "print(\"Given data\")\n",
    "input_data=[7,181,84,21,192,35.9,0.586,51]\n",
    "print(input_data)\n",
    "numpy_data=np.array(input_data)\n",
    "data=numpy_data.reshape(1,-1)\n",
    "#std_data=scaler.transform(data)\n",
    "prediction=model_classifier.predict(data)\n",
    "print(\"Outcome predicted: \",end=\"\")\n",
    "print(prediction[0])\n",
    "if(prediction[0]==1):\n",
    "    print(\"The patient is having diabetes\")\n",
    "else:\n",
    "    print(\"The patient is non diabetic\")"
   ]
  },
  {
   "cell_type": "markdown",
   "id": "0fde47f0",
   "metadata": {},
   "source": [
    "SAVING THE TRAINED MODEL"
   ]
  },
  {
   "cell_type": "code",
   "execution_count": 24,
   "id": "124364b7",
   "metadata": {},
   "outputs": [],
   "source": [
    "import pickle"
   ]
  },
  {
   "cell_type": "code",
   "execution_count": 25,
   "id": "d029f2c4",
   "metadata": {},
   "outputs": [],
   "source": [
    "filename=\"trained_model.sav\"\n",
    "pickle.dump(model_classifier,open(filename,\"wb\"))"
   ]
  },
  {
   "cell_type": "markdown",
   "id": "1697dc13",
   "metadata": {},
   "source": [
    "loading the saved model"
   ]
  },
  {
   "cell_type": "code",
   "execution_count": 27,
   "id": "df965595",
   "metadata": {},
   "outputs": [],
   "source": [
    "load_model=pickle.load(open(filename,\"rb\"))"
   ]
  },
  {
   "cell_type": "code",
   "execution_count": 29,
   "id": "489709c9",
   "metadata": {},
   "outputs": [
    {
     "name": "stdout",
     "output_type": "stream",
     "text": [
      "Given data\n",
      "[7, 181, 84, 21, 192, 35.9, 0.586, 51]\n",
      "Outcome predicted: 1\n",
      "The patient is having diabetes\n"
     ]
    }
   ],
   "source": [
    "print(\"Given data\")\n",
    "input_data=[7,181,84,21,192,35.9,0.586,51]\n",
    "print(input_data)\n",
    "numpy_data=np.array(input_data)\n",
    "data=numpy_data.reshape(1,-1)\n",
    "#std_data=scaler.transform(data)\n",
    "prediction=load_model.predict(data)\n",
    "print(\"Outcome predicted: \",end=\"\")\n",
    "print(prediction[0])\n",
    "if(prediction[0]==1):\n",
    "    print(\"The patient is having diabetes\")\n",
    "else:\n",
    "    print(\"The patient is non diabetic\")"
   ]
  },
  {
   "cell_type": "code",
   "execution_count": null,
   "id": "188e0378",
   "metadata": {},
   "outputs": [],
   "source": []
  }
 ],
 "metadata": {
  "kernelspec": {
   "display_name": "Python 3 (ipykernel)",
   "language": "python",
   "name": "python3"
  },
  "language_info": {
   "codemirror_mode": {
    "name": "ipython",
    "version": 3
   },
   "file_extension": ".py",
   "mimetype": "text/x-python",
   "name": "python",
   "nbconvert_exporter": "python",
   "pygments_lexer": "ipython3",
   "version": "3.9.7"
  }
 },
 "nbformat": 4,
 "nbformat_minor": 5
}
